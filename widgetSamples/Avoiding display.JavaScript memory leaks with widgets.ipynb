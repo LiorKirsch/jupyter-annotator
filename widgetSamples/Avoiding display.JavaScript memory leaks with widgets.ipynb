{
 "cells": [
  {
   "cell_type": "code",
   "execution_count": 1,
   "metadata": {
    "collapsed": true
   },
   "outputs": [],
   "source": [
    "from time import sleep\n",
    "from ipywidgets import HTML\n",
    "from traitlets import Unicode, Int"
   ]
  },
  {
   "cell_type": "code",
   "execution_count": 2,
   "metadata": {
    "collapsed": false
   },
   "outputs": [
    {
     "data": {
      "application/javascript": [
       "require.undef(\"updater-widget\");\n",
       "define(\"updater-widget\", [\"jupyter-js-widgets\"], function(widget){\n",
       "    var HelloView = widget.DOMWidgetView.extend({\n",
       "        render: function(){\n",
       "            this.pagetitle = document.createElement(\"h4\");\n",
       "            this.pagetitle.textContent = \"Hello\";\n",
       "            this.el.appendChild(this.pagetitle);\n",
       "        },\n",
       "        update: function(){\n",
       "            this.pagetitle.innerHTML = \"Goodbye \" + this.model.get(\"value\");\n",
       "        }\n",
       "    });\n",
       "    return {HelloView: HelloView}\n",
       "})"
      ],
      "text/plain": [
       "<IPython.core.display.Javascript object>"
      ]
     },
     "metadata": {},
     "output_type": "display_data"
    }
   ],
   "source": [
    "%%javascript\n",
    "require.undef(\"updater-widget\");\n",
    "define(\"updater-widget\", [\"jupyter-js-widgets\"], function(widget){\n",
    "    var HelloView = widget.DOMWidgetView.extend({\n",
    "        render: function(){\n",
    "            this.pagetitle = document.createElement(\"h4\");\n",
    "            this.pagetitle.textContent = \"Hello\";\n",
    "            this.el.appendChild(this.pagetitle);\n",
    "        },\n",
    "        update: function(){\n",
    "            this.pagetitle.innerHTML = \"Goodbye \" + this.model.get(\"value\");\n",
    "        }\n",
    "    });\n",
    "    return {HelloView: HelloView}\n",
    "})"
   ]
  },
  {
   "cell_type": "code",
   "execution_count": 3,
   "metadata": {
    "collapsed": true
   },
   "outputs": [],
   "source": [
    "class UpdaterHTML(HTML):\n",
    "    _view_module = Unicode(\"updater-widget\").tag(sync=True)\n",
    "    _view_name = Unicode(\"HelloView\").tag(sync=True)\n",
    "    value = Int(0).tag(sync=True)"
   ]
  },
  {
   "cell_type": "code",
   "execution_count": 4,
   "metadata": {
    "collapsed": true
   },
   "outputs": [],
   "source": [
    "updater = UpdaterHTML()\n",
    "updater"
   ]
  },
  {
   "cell_type": "code",
   "execution_count": null,
   "metadata": {
    "collapsed": false
   },
   "outputs": [],
   "source": [
    "while True:\n",
    "    updater.value += 1\n",
    "    sleep(1e-2)"
   ]
  },
  {
   "cell_type": "code",
   "execution_count": null,
   "metadata": {
    "collapsed": true
   },
   "outputs": [],
   "source": []
  }
 ],
 "metadata": {
  "kernelspec": {
   "display_name": "Python [Root]",
   "language": "python",
   "name": "Python [Root]"
  },
  "language_info": {
   "codemirror_mode": {
    "name": "ipython",
    "version": 3
   },
   "file_extension": ".py",
   "mimetype": "text/x-python",
   "name": "python",
   "nbconvert_exporter": "python",
   "pygments_lexer": "ipython3",
   "version": "3.5.2"
  },
  "widgets": {
   "state": {
    "a8f0238d94a04ed18bd3a62d816a7f06": {
     "views": [
      {
       "cell_index": 4
      }
     ]
    }
   },
   "version": "1.2.0"
  }
 },
 "nbformat": 4,
 "nbformat_minor": 0
}
