{
 "cells": [
  {
   "cell_type": "code",
   "execution_count": 31,
   "metadata": {
    "collapsed": true
   },
   "outputs": [],
   "source": [
    "import pandas as pd\n",
    "import networkx as nx\n",
    "import numpy as np\n",
    "from matplotlib import pyplot as plt\n",
    "from networkx.drawing.nx_agraph import graphviz_layout\n",
    "%matplotlib inline\n",
    "\n",
    "from IPython.core.display import display, HTML\n",
    "from string import Template\n",
    "import pandas as pd\n",
    "import json, random\n"
   ]
  },
  {
   "cell_type": "markdown",
   "metadata": {},
   "source": [
    "### Load NetworkX graph from pickle file"
   ]
  },
  {
   "cell_type": "code",
   "execution_count": 32,
   "metadata": {
    "collapsed": false
   },
   "outputs": [],
   "source": [
    "normalizationMethod = \"building graph normalized\"\n",
    "# normalizationMethod = None\n",
    "\n",
    "graphFile = '../../data/interim/graph_%s.pickle' % normalizationMethod\n",
    "G = nx.read_gpickle(graphFile)\n",
    "# G = nx.read_graphml('misserables.graphml')"
   ]
  },
  {
   "cell_type": "markdown",
   "metadata": {},
   "source": [
    "### Remove edges below a threshold and then remove isolated nodes\n"
   ]
  },
  {
   "cell_type": "code",
   "execution_count": 33,
   "metadata": {
    "collapsed": false
   },
   "outputs": [],
   "source": [
    "edgeThreshold =  2**-25\n",
    "\n",
    "for edge in G.edges():\n",
    "    edge_data = G.get_edge_data(edge[0],edge[1])\n",
    "    if edge_data['weight'] < edgeThreshold:\n",
    "        G.remove_edge(edge[0],edge[1])\n",
    "\n",
    "for node in nx.isolates(G):\n",
    "    G.remove_node(node) "
   ]
  },
  {
   "cell_type": "markdown",
   "metadata": {},
   "source": [
    "### Creating graphs in sigma.js\n",
    "based on https://github.com/stitchfix/d3-jupyter-tutorial/blob/master/sigma_js_graph.ipynb\n",
    "\n",
    "use the position as it is calulated by networkX (graphviz layout)"
   ]
  },
  {
   "cell_type": "code",
   "execution_count": 40,
   "metadata": {
    "collapsed": false
   },
   "outputs": [
    {
     "data": {
      "text/html": [
       "<div>\n",
       "<table border=\"1\" class=\"dataframe\">\n",
       "  <thead>\n",
       "    <tr style=\"text-align: right;\">\n",
       "      <th></th>\n",
       "      <th>id</th>\n",
       "      <th>label</th>\n",
       "      <th>size</th>\n",
       "      <th>x</th>\n",
       "      <th>y</th>\n",
       "    </tr>\n",
       "  </thead>\n",
       "  <tbody>\n",
       "    <tr>\n",
       "      <th>0</th>\n",
       "      <td>58</td>\n",
       "      <td>58</td>\n",
       "      <td>0.0001</td>\n",
       "      <td>-29.599</td>\n",
       "      <td>-79.4230</td>\n",
       "    </tr>\n",
       "    <tr>\n",
       "      <th>1</th>\n",
       "      <td>56</td>\n",
       "      <td>56</td>\n",
       "      <td>0.0001</td>\n",
       "      <td>16.119</td>\n",
       "      <td>-136.3800</td>\n",
       "    </tr>\n",
       "    <tr>\n",
       "      <th>2</th>\n",
       "      <td>54</td>\n",
       "      <td>54</td>\n",
       "      <td>0.0001</td>\n",
       "      <td>-92.940</td>\n",
       "      <td>-3.6459</td>\n",
       "    </tr>\n",
       "    <tr>\n",
       "      <th>3</th>\n",
       "      <td>28</td>\n",
       "      <td>28</td>\n",
       "      <td>0.0001</td>\n",
       "      <td>-14.282</td>\n",
       "      <td>81.6680</td>\n",
       "    </tr>\n",
       "    <tr>\n",
       "      <th>4</th>\n",
       "      <td>29</td>\n",
       "      <td>29</td>\n",
       "      <td>0.0001</td>\n",
       "      <td>87.484</td>\n",
       "      <td>-19.6140</td>\n",
       "    </tr>\n",
       "  </tbody>\n",
       "</table>\n",
       "</div>"
      ],
      "text/plain": [
       "   id label    size       x         y\n",
       "0  58    58  0.0001 -29.599  -79.4230\n",
       "1  56    56  0.0001  16.119 -136.3800\n",
       "2  54    54  0.0001 -92.940   -3.6459\n",
       "3  28    28  0.0001 -14.282   81.6680\n",
       "4  29    29  0.0001  87.484  -19.6140"
      ]
     },
     "execution_count": 40,
     "metadata": {},
     "output_type": "execute_result"
    }
   ],
   "source": [
    "df_nodes = pd.DataFrame( columns=[\"id\",\"label\",\"size\",\"x\",\"y\"])\n",
    "df_nodes[\"id\"] = list(G.nodes())\n",
    "df_nodes[\"label\"] = list(G.nodes())\n",
    "df_nodes[\"size\"] = .0001\n",
    "\n",
    "df_nodes = df_nodes.set_index([\"id\"])\n",
    "pos = graphviz_layout(G)\n",
    "df_pos = pd.DataFrame(pos)\n",
    "df_pos = df_pos.unstack().unstack()\n",
    "df_nodes[\"x\"] = df_pos.iloc[:,0]\n",
    "df_nodes[\"y\"] = df_pos.iloc[:,1]\n",
    "\n",
    "\n",
    "df_nodes = df_nodes.reset_index()\n",
    "df_nodes.head()"
   ]
  },
  {
   "cell_type": "code",
   "execution_count": 41,
   "metadata": {
    "collapsed": false
   },
   "outputs": [
    {
     "data": {
      "text/html": [
       "<div>\n",
       "<table border=\"1\" class=\"dataframe\">\n",
       "  <thead>\n",
       "    <tr style=\"text-align: right;\">\n",
       "      <th></th>\n",
       "      <th>source</th>\n",
       "      <th>target</th>\n",
       "      <th>id</th>\n",
       "    </tr>\n",
       "  </thead>\n",
       "  <tbody>\n",
       "    <tr>\n",
       "      <th>0</th>\n",
       "      <td>58</td>\n",
       "      <td>11</td>\n",
       "      <td>e0</td>\n",
       "    </tr>\n",
       "    <tr>\n",
       "      <th>1</th>\n",
       "      <td>58</td>\n",
       "      <td>27</td>\n",
       "      <td>e1</td>\n",
       "    </tr>\n",
       "    <tr>\n",
       "      <th>2</th>\n",
       "      <td>58</td>\n",
       "      <td>59</td>\n",
       "      <td>e2</td>\n",
       "    </tr>\n",
       "    <tr>\n",
       "      <th>3</th>\n",
       "      <td>58</td>\n",
       "      <td>48</td>\n",
       "      <td>e3</td>\n",
       "    </tr>\n",
       "    <tr>\n",
       "      <th>4</th>\n",
       "      <td>58</td>\n",
       "      <td>76</td>\n",
       "      <td>e4</td>\n",
       "    </tr>\n",
       "  </tbody>\n",
       "</table>\n",
       "</div>"
      ],
      "text/plain": [
       "  source target  id\n",
       "0     58     11  e0\n",
       "1     58     27  e1\n",
       "2     58     59  e2\n",
       "3     58     48  e3\n",
       "4     58     76  e4"
      ]
     },
     "execution_count": 41,
     "metadata": {},
     "output_type": "execute_result"
    }
   ],
   "source": [
    "df_edges = pd.DataFrame( list(G.edges()), columns=[\"source\",\"target\"])\n",
    "df_edges[\"id\"] = [\"e\"+ number.astype(str) for number in np.arange(0,df_edges.shape[0])]\n",
    "df_edges.head()"
   ]
  },
  {
   "cell_type": "code",
   "execution_count": 42,
   "metadata": {
    "collapsed": true
   },
   "outputs": [],
   "source": [
    "graph_data = {'nodes':df_nodes.to_dict(orient='records'), 'edges':df_edges.to_dict(orient='records')}"
   ]
  },
  {
   "cell_type": "code",
   "execution_count": 43,
   "metadata": {
    "collapsed": false
   },
   "outputs": [
    {
     "data": {
      "text/html": [
       "\n",
       "<script src=\"lib/sigmajs/sigma.min.js\"></script>\n",
       "<script src=\"js/sigma-add-method-neighbors.js\"></script>\n"
      ],
      "text/plain": [
       "<IPython.core.display.HTML object>"
      ]
     },
     "execution_count": 43,
     "metadata": {},
     "output_type": "execute_result"
    }
   ],
   "source": [
    "HTML('''\n",
    "<script src=\"lib/sigmajs/sigma.min.js\"></script>\n",
    "<script src=\"js/sigma-add-method-neighbors.js\"></script>\n",
    "''')"
   ]
  },
  {
   "cell_type": "code",
   "execution_count": 44,
   "metadata": {
    "collapsed": false
   },
   "outputs": [
    {
     "data": {
      "text/html": [
       "\n",
       "<div id=\"graph-div\" style=\"height:700px\"></div>\n",
       "<script> var g = {\"nodes\": [{\"y\": -79.423, \"x\": -29.599, \"size\": 0.0001, \"id\": \"58\", \"label\": \"58\"}, {\"y\": -136.38, \"x\": 16.119, \"size\": 0.0001, \"id\": \"56\", \"label\": \"56\"}, {\"y\": -3.6459, \"x\": -92.94, \"size\": 0.0001, \"id\": \"54\", \"label\": \"54\"}, {\"y\": 81.668, \"x\": -14.282, \"size\": 0.0001, \"id\": \"28\", \"label\": \"28\"}, {\"y\": -19.614, \"x\": 87.484, \"size\": 0.0001, \"id\": \"29\", \"label\": \"29\"}, {\"y\": -162.21, \"x\": -37.437, \"size\": 0.0001, \"id\": \"60\", \"label\": \"60\"}, {\"y\": -127.76, \"x\": -54.322, \"size\": 0.0001, \"id\": \"61\", \"label\": \"61\"}, {\"y\": -92.145, \"x\": -87.506, \"size\": 0.0001, \"id\": \"62\", \"label\": \"62\"}, {\"y\": -130.03, \"x\": -34.439, \"size\": 0.0001, \"id\": \"63\", \"label\": \"63\"}, {\"y\": -92.785, \"x\": -17.922, \"size\": 0.0001, \"id\": \"64\", \"label\": \"64\"}, {\"y\": -115.29, \"x\": -69.493, \"size\": 0.0001, \"id\": \"65\", \"label\": \"65\"}, {\"y\": -160.69, \"x\": -68.926, \"size\": 0.0001, \"id\": \"66\", \"label\": \"66\"}, {\"y\": -163.46, \"x\": -166.42, \"size\": 0.0001, \"id\": \"67\", \"label\": \"67\"}, {\"y\": 18.774, \"x\": -62.298, \"size\": 0.0001, \"id\": \"68\", \"label\": \"68\"}, {\"y\": 1.4429, \"x\": -55.203, \"size\": 0.0001, \"id\": \"69\", \"label\": \"69\"}, {\"y\": -85.154, \"x\": 100.68, \"size\": 0.0001, \"id\": \"34\", \"label\": \"34\"}, {\"y\": 49.232, \"x\": -16.469, \"size\": 0.0001, \"id\": \"24\", \"label\": \"24\"}, {\"y\": 24.894, \"x\": -36.536, \"size\": 0.0001, \"id\": \"25\", \"label\": \"25\"}, {\"y\": 14.951, \"x\": 6.6412, \"size\": 0.0001, \"id\": \"26\", \"label\": \"26\"}, {\"y\": -10.89, \"x\": 8.4941, \"size\": 0.0001, \"id\": \"27\", \"label\": \"27\"}, {\"y\": 56.01, \"x\": 157.95, \"size\": 0.0001, \"id\": \"20\", \"label\": \"20\"}, {\"y\": 34.023, \"x\": 161.0, \"size\": 0.0001, \"id\": \"21\", \"label\": \"21\"}, {\"y\": 109.54, \"x\": 101.19, \"size\": 0.0001, \"id\": \"22\", \"label\": \"22\"}, {\"y\": 44.841, \"x\": 77.402, \"size\": 0.0001, \"id\": \"23\", \"label\": \"23\"}, {\"y\": -69.038, \"x\": -249.95, \"size\": 0.0001, \"id\": \"46\", \"label\": \"46\"}, {\"y\": -63.811, \"x\": -166.06, \"size\": 0.0001, \"id\": \"47\", \"label\": \"47\"}, {\"y\": 64.579, \"x\": 31.335, \"size\": 0.0001, \"id\": \"44\", \"label\": \"44\"}, {\"y\": 161.28, \"x\": -89.445, \"size\": 0.0001, \"id\": \"45\", \"label\": \"45\"}, {\"y\": 68.842, \"x\": -118.2, \"size\": 0.0001, \"id\": \"42\", \"label\": \"42\"}, {\"y\": 2.4779, \"x\": 65.913, \"size\": 0.0001, \"id\": \"43\", \"label\": \"43\"}, {\"y\": 100.97, \"x\": -109.11, \"size\": 0.0001, \"id\": \"40\", \"label\": \"40\"}, {\"y\": -20.122, \"x\": -106.27, \"size\": 0.0001, \"id\": \"41\", \"label\": \"41\"}, {\"y\": 189.62, \"x\": 70.86, \"size\": 0.0001, \"id\": \"1\", \"label\": \"1\"}, {\"y\": 115.63, \"x\": 32.938, \"size\": 0.0001, \"id\": \"0\", \"label\": \"0\"}, {\"y\": 84.618, \"x\": 14.562, \"size\": 0.0001, \"id\": \"3\", \"label\": \"3\"}, {\"y\": 76.943, \"x\": 52.969, \"size\": 0.0001, \"id\": \"2\", \"label\": \"2\"}, {\"y\": 182.8, \"x\": -43.094, \"size\": 0.0001, \"id\": \"5\", \"label\": \"5\"}, {\"y\": 196.97, \"x\": 10.86, \"size\": 0.0001, \"id\": \"4\", \"label\": \"4\"}, {\"y\": 158.73, \"x\": 127.52, \"size\": 0.0001, \"id\": \"7\", \"label\": \"7\"}, {\"y\": 192.07, \"x\": -17.29, \"size\": 0.0001, \"id\": \"6\", \"label\": \"6\"}, {\"y\": 196.4, \"x\": 40.791, \"size\": 0.0001, \"id\": \"9\", \"label\": \"9\"}, {\"y\": 177.11, \"x\": 99.602, \"size\": 0.0001, \"id\": \"8\", \"label\": \"8\"}, {\"y\": -55.38, \"x\": -5.2687, \"size\": 0.0001, \"id\": \"51\", \"label\": \"51\"}, {\"y\": -6.0045, \"x\": -19.761, \"size\": 0.0001, \"id\": \"49\", \"label\": \"49\"}, {\"y\": 82.451, \"x\": 154.92, \"size\": 0.0001, \"id\": \"19\", \"label\": \"19\"}, {\"y\": -62.51, \"x\": 73.903, \"size\": 0.0001, \"id\": \"35\", \"label\": \"35\"}, {\"y\": 32.878, \"x\": -116.59, \"size\": 0.0001, \"id\": \"39\", \"label\": \"39\"}, {\"y\": -142.86, \"x\": -99.477, \"size\": 0.0001, \"id\": \"76\", \"label\": \"76\"}, {\"y\": 2.5007, \"x\": -122.4, \"size\": 0.0001, \"id\": \"75\", \"label\": \"75\"}, {\"y\": -86.944, \"x\": 67.853, \"size\": 0.0001, \"id\": \"38\", \"label\": \"38\"}, {\"y\": -93.336, \"x\": -152.12, \"size\": 0.0001, \"id\": \"73\", \"label\": \"73\"}, {\"y\": -57.585, \"x\": 42.243, \"size\": 0.0001, \"id\": \"72\", \"label\": \"72\"}, {\"y\": -22.778, \"x\": -55.96, \"size\": 0.0001, \"id\": \"71\", \"label\": \"71\"}, {\"y\": -18.066, \"x\": -32.119, \"size\": 0.0001, \"id\": \"70\", \"label\": \"70\"}, {\"y\": -117.05, \"x\": -91.599, \"size\": 0.0001, \"id\": \"59\", \"label\": \"59\"}, {\"y\": 74.957, \"x\": -28.156, \"size\": 0.0001, \"id\": \"14\", \"label\": \"14\"}, {\"y\": -5.4545, \"x\": 28.18, \"size\": 0.0001, \"id\": \"11\", \"label\": \"11\"}, {\"y\": 33.369, \"x\": 94.569, \"size\": 0.0001, \"id\": \"10\", \"label\": \"10\"}, {\"y\": -99.488, \"x\": 49.368, \"size\": 0.0001, \"id\": \"13\", \"label\": \"13\"}, {\"y\": 11.362, \"x\": 113.18, \"size\": 0.0001, \"id\": \"12\", \"label\": \"12\"}, {\"y\": -99.636, \"x\": 79.838, \"size\": 0.0001, \"id\": \"15\", \"label\": \"15\"}, {\"y\": -58.656, \"x\": -64.157, \"size\": 0.0001, \"id\": \"48\", \"label\": \"48\"}, {\"y\": 79.281, \"x\": 130.49, \"size\": 0.0001, \"id\": \"17\", \"label\": \"17\"}, {\"y\": 40.334, \"x\": 61.933, \"size\": 0.0001, \"id\": \"16\", \"label\": \"16\"}, {\"y\": -45.053, \"x\": 81.213, \"size\": 0.0001, \"id\": \"33\", \"label\": \"33\"}, {\"y\": -25.552, \"x\": 124.54, \"size\": 0.0001, \"id\": \"32\", \"label\": \"32\"}, {\"y\": -82.683, \"x\": -108.89, \"size\": 0.0001, \"id\": \"57\", \"label\": \"57\"}, {\"y\": -2.5528, \"x\": 189.18, \"size\": 0.0001, \"id\": \"30\", \"label\": \"30\"}, {\"y\": -66.178, \"x\": 115.51, \"size\": 0.0001, \"id\": \"37\", \"label\": \"37\"}, {\"y\": -43.901, \"x\": 117.98, \"size\": 0.0001, \"id\": \"36\", \"label\": \"36\"}, {\"y\": -175.79, \"x\": 49.137, \"size\": 0.0001, \"id\": \"53\", \"label\": \"53\"}, {\"y\": 12.383, \"x\": -161.78, \"size\": 0.0001, \"id\": \"52\", \"label\": \"52\"}, {\"y\": -43.016, \"x\": -30.259, \"size\": 0.0001, \"id\": \"55\", \"label\": \"55\"}, {\"y\": -38.733, \"x\": -162.52, \"size\": 0.0001, \"id\": \"74\", \"label\": \"74\"}, {\"y\": 105.64, \"x\": 126.0, \"size\": 0.0001, \"id\": \"18\", \"label\": \"18\"}, {\"y\": -2.6711, \"x\": 105.16, \"size\": 0.0001, \"id\": \"31\", \"label\": \"31\"}, {\"y\": 104.75, \"x\": -75.246, \"size\": 0.0001, \"id\": \"50\", \"label\": \"50\"}], \"edges\": [{\"source\": \"58\", \"target\": \"11\", \"id\": \"e0\"}, {\"source\": \"58\", \"target\": \"27\", \"id\": \"e1\"}, {\"source\": \"58\", \"target\": \"59\", \"id\": \"e2\"}, {\"source\": \"58\", \"target\": \"48\", \"id\": \"e3\"}, {\"source\": \"58\", \"target\": \"76\", \"id\": \"e4\"}, {\"source\": \"58\", \"target\": \"55\", \"id\": \"e5\"}, {\"source\": \"58\", \"target\": \"57\", \"id\": \"e6\"}, {\"source\": \"58\", \"target\": \"60\", \"id\": \"e7\"}, {\"source\": \"58\", \"target\": \"61\", \"id\": \"e8\"}, {\"source\": \"58\", \"target\": \"62\", \"id\": \"e9\"}, {\"source\": \"58\", \"target\": \"63\", \"id\": \"e10\"}, {\"source\": \"58\", \"target\": \"64\", \"id\": \"e11\"}, {\"source\": \"58\", \"target\": \"65\", \"id\": \"e12\"}, {\"source\": \"58\", \"target\": \"66\", \"id\": \"e13\"}, {\"source\": \"58\", \"target\": \"70\", \"id\": \"e14\"}, {\"source\": \"56\", \"target\": \"55\", \"id\": \"e15\"}, {\"source\": \"56\", \"target\": \"49\", \"id\": \"e16\"}, {\"source\": \"54\", \"target\": \"55\", \"id\": \"e17\"}, {\"source\": \"54\", \"target\": \"26\", \"id\": \"e18\"}, {\"source\": \"54\", \"target\": \"51\", \"id\": \"e19\"}, {\"source\": \"54\", \"target\": \"49\", \"id\": \"e20\"}, {\"source\": \"28\", \"target\": \"11\", \"id\": \"e21\"}, {\"source\": \"28\", \"target\": \"27\", \"id\": \"e22\"}, {\"source\": \"28\", \"target\": \"44\", \"id\": \"e23\"}, {\"source\": \"28\", \"target\": \"45\", \"id\": \"e24\"}, {\"source\": \"29\", \"target\": \"11\", \"id\": \"e25\"}, {\"source\": \"29\", \"target\": \"27\", \"id\": \"e26\"}, {\"source\": \"29\", \"target\": \"23\", \"id\": \"e27\"}, {\"source\": \"29\", \"target\": \"37\", \"id\": \"e28\"}, {\"source\": \"29\", \"target\": \"36\", \"id\": \"e29\"}, {\"source\": \"29\", \"target\": \"35\", \"id\": \"e30\"}, {\"source\": \"29\", \"target\": \"34\", \"id\": \"e31\"}, {\"source\": \"29\", \"target\": \"38\", \"id\": \"e32\"}, {\"source\": \"60\", \"target\": \"59\", \"id\": \"e33\"}, {\"source\": \"60\", \"target\": \"48\", \"id\": \"e34\"}, {\"source\": \"60\", \"target\": \"61\", \"id\": \"e35\"}, {\"source\": \"60\", \"target\": \"62\", \"id\": \"e36\"}, {\"source\": \"60\", \"target\": \"63\", \"id\": \"e37\"}, {\"source\": \"60\", \"target\": \"64\", \"id\": \"e38\"}, {\"source\": \"60\", \"target\": \"65\", \"id\": \"e39\"}, {\"source\": \"60\", \"target\": \"66\", \"id\": \"e40\"}, {\"source\": \"61\", \"target\": \"59\", \"id\": \"e41\"}, {\"source\": \"61\", \"target\": \"48\", \"id\": \"e42\"}, {\"source\": \"61\", \"target\": \"55\", \"id\": \"e43\"}, {\"source\": \"61\", \"target\": \"57\", \"id\": \"e44\"}, {\"source\": \"61\", \"target\": \"62\", \"id\": \"e45\"}, {\"source\": \"61\", \"target\": \"63\", \"id\": \"e46\"}, {\"source\": \"61\", \"target\": \"64\", \"id\": \"e47\"}, {\"source\": \"61\", \"target\": \"65\", \"id\": \"e48\"}, {\"source\": \"61\", \"target\": \"66\", \"id\": \"e49\"}, {\"source\": \"62\", \"target\": \"59\", \"id\": \"e50\"}, {\"source\": \"62\", \"target\": \"48\", \"id\": \"e51\"}, {\"source\": \"62\", \"target\": \"76\", \"id\": \"e52\"}, {\"source\": \"62\", \"target\": \"55\", \"id\": \"e53\"}, {\"source\": \"62\", \"target\": \"57\", \"id\": \"e54\"}, {\"source\": \"62\", \"target\": \"41\", \"id\": \"e55\"}, {\"source\": \"62\", \"target\": \"63\", \"id\": \"e56\"}, {\"source\": \"62\", \"target\": \"64\", \"id\": \"e57\"}, {\"source\": \"62\", \"target\": \"65\", \"id\": \"e58\"}, {\"source\": \"62\", \"target\": \"66\", \"id\": \"e59\"}, {\"source\": \"63\", \"target\": \"59\", \"id\": \"e60\"}, {\"source\": \"63\", \"target\": \"48\", \"id\": \"e61\"}, {\"source\": \"63\", \"target\": \"76\", \"id\": \"e62\"}, {\"source\": \"63\", \"target\": \"55\", \"id\": \"e63\"}, {\"source\": \"63\", \"target\": \"57\", \"id\": \"e64\"}, {\"source\": \"63\", \"target\": \"64\", \"id\": \"e65\"}, {\"source\": \"63\", \"target\": \"65\", \"id\": \"e66\"}, {\"source\": \"63\", \"target\": \"66\", \"id\": \"e67\"}, {\"source\": \"64\", \"target\": \"11\", \"id\": \"e68\"}, {\"source\": \"64\", \"target\": \"59\", \"id\": \"e69\"}, {\"source\": \"64\", \"target\": \"48\", \"id\": \"e70\"}, {\"source\": \"64\", \"target\": \"76\", \"id\": \"e71\"}, {\"source\": \"64\", \"target\": \"55\", \"id\": \"e72\"}, {\"source\": \"64\", \"target\": \"57\", \"id\": \"e73\"}, {\"source\": \"64\", \"target\": \"65\", \"id\": \"e74\"}, {\"source\": \"64\", \"target\": \"66\", \"id\": \"e75\"}, {\"source\": \"65\", \"target\": \"59\", \"id\": \"e76\"}, {\"source\": \"65\", \"target\": \"48\", \"id\": \"e77\"}, {\"source\": \"65\", \"target\": \"76\", \"id\": \"e78\"}, {\"source\": \"65\", \"target\": \"55\", \"id\": \"e79\"}, {\"source\": \"65\", \"target\": \"57\", \"id\": \"e80\"}, {\"source\": \"65\", \"target\": \"66\", \"id\": \"e81\"}, {\"source\": \"66\", \"target\": \"59\", \"id\": \"e82\"}, {\"source\": \"66\", \"target\": \"48\", \"id\": \"e83\"}, {\"source\": \"66\", \"target\": \"76\", \"id\": \"e84\"}, {\"source\": \"67\", \"target\": \"57\", \"id\": \"e85\"}, {\"source\": \"68\", \"target\": \"11\", \"id\": \"e86\"}, {\"source\": \"68\", \"target\": \"24\", \"id\": \"e87\"}, {\"source\": \"68\", \"target\": \"27\", \"id\": \"e88\"}, {\"source\": \"68\", \"target\": \"48\", \"id\": \"e89\"}, {\"source\": \"68\", \"target\": \"25\", \"id\": \"e90\"}, {\"source\": \"68\", \"target\": \"41\", \"id\": \"e91\"}, {\"source\": \"68\", \"target\": \"75\", \"id\": \"e92\"}, {\"source\": \"68\", \"target\": \"71\", \"id\": \"e93\"}, {\"source\": \"68\", \"target\": \"70\", \"id\": \"e94\"}, {\"source\": \"68\", \"target\": \"69\", \"id\": \"e95\"}, {\"source\": \"69\", \"target\": \"11\", \"id\": \"e96\"}, {\"source\": \"69\", \"target\": \"25\", \"id\": \"e97\"}, {\"source\": \"69\", \"target\": \"27\", \"id\": \"e98\"}, {\"source\": \"69\", \"target\": \"48\", \"id\": \"e99\"}, {\"source\": \"69\", \"target\": \"70\", \"id\": \"e100\"}, {\"source\": \"69\", \"target\": \"41\", \"id\": \"e101\"}, {\"source\": \"69\", \"target\": \"75\", \"id\": \"e102\"}, {\"source\": \"69\", \"target\": \"71\", \"id\": \"e103\"}, {\"source\": \"69\", \"target\": \"24\", \"id\": \"e104\"}, {\"source\": \"34\", \"target\": \"11\", \"id\": \"e105\"}, {\"source\": \"34\", \"target\": \"38\", \"id\": \"e106\"}, {\"source\": \"34\", \"target\": \"37\", \"id\": \"e107\"}, {\"source\": \"34\", \"target\": \"35\", \"id\": \"e108\"}, {\"source\": \"34\", \"target\": \"36\", \"id\": \"e109\"}, {\"source\": \"24\", \"target\": \"11\", \"id\": \"e110\"}, {\"source\": \"24\", \"target\": \"25\", \"id\": \"e111\"}, {\"source\": \"24\", \"target\": \"26\", \"id\": \"e112\"}, {\"source\": \"24\", \"target\": \"27\", \"id\": \"e113\"}, {\"source\": \"24\", \"target\": \"23\", \"id\": \"e114\"}, {\"source\": \"24\", \"target\": \"42\", \"id\": \"e115\"}, {\"source\": \"24\", \"target\": \"50\", \"id\": \"e116\"}, {\"source\": \"24\", \"target\": \"41\", \"id\": \"e117\"}, {\"source\": \"24\", \"target\": \"70\", \"id\": \"e118\"}, {\"source\": \"25\", \"target\": \"11\", \"id\": \"e119\"}, {\"source\": \"25\", \"target\": \"26\", \"id\": \"e120\"}, {\"source\": \"25\", \"target\": \"27\", \"id\": \"e121\"}, {\"source\": \"25\", \"target\": \"48\", \"id\": \"e122\"}, {\"source\": \"25\", \"target\": \"23\", \"id\": \"e123\"}, {\"source\": \"25\", \"target\": \"55\", \"id\": \"e124\"}, {\"source\": \"25\", \"target\": \"42\", \"id\": \"e125\"}, {\"source\": \"25\", \"target\": \"39\", \"id\": \"e126\"}, {\"source\": \"25\", \"target\": \"40\", \"id\": \"e127\"}, {\"source\": \"25\", \"target\": \"41\", \"id\": \"e128\"}, {\"source\": \"25\", \"target\": \"75\", \"id\": \"e129\"}, {\"source\": \"25\", \"target\": \"71\", \"id\": \"e130\"}, {\"source\": \"25\", \"target\": \"70\", \"id\": \"e131\"}, {\"source\": \"26\", \"target\": \"27\", \"id\": \"e132\"}, {\"source\": \"26\", \"target\": \"16\", \"id\": \"e133\"}, {\"source\": \"26\", \"target\": \"55\", \"id\": \"e134\"}, {\"source\": \"26\", \"target\": \"49\", \"id\": \"e135\"}, {\"source\": \"26\", \"target\": \"51\", \"id\": \"e136\"}, {\"source\": \"26\", \"target\": \"43\", \"id\": \"e137\"}, {\"source\": \"26\", \"target\": \"72\", \"id\": \"e138\"}, {\"source\": \"26\", \"target\": \"11\", \"id\": \"e139\"}, {\"source\": \"27\", \"target\": \"48\", \"id\": \"e140\"}, {\"source\": \"27\", \"target\": \"23\", \"id\": \"e141\"}, {\"source\": \"27\", \"target\": \"33\", \"id\": \"e142\"}, {\"source\": \"27\", \"target\": \"31\", \"id\": \"e143\"}, {\"source\": \"27\", \"target\": \"70\", \"id\": \"e144\"}, {\"source\": \"27\", \"target\": \"43\", \"id\": \"e145\"}, {\"source\": \"27\", \"target\": \"72\", \"id\": \"e146\"}, {\"source\": \"27\", \"target\": \"71\", \"id\": \"e147\"}, {\"source\": \"27\", \"target\": \"11\", \"id\": \"e148\"}, {\"source\": \"20\", \"target\": \"21\", \"id\": \"e149\"}, {\"source\": \"20\", \"target\": \"22\", \"id\": \"e150\"}, {\"source\": \"20\", \"target\": \"23\", \"id\": \"e151\"}, {\"source\": \"20\", \"target\": \"19\", \"id\": \"e152\"}, {\"source\": \"20\", \"target\": \"18\", \"id\": \"e153\"}, {\"source\": \"20\", \"target\": \"16\", \"id\": \"e154\"}, {\"source\": \"20\", \"target\": \"17\", \"id\": \"e155\"}, {\"source\": \"21\", \"target\": \"22\", \"id\": \"e156\"}, {\"source\": \"21\", \"target\": \"17\", \"id\": \"e157\"}, {\"source\": \"21\", \"target\": \"16\", \"id\": \"e158\"}, {\"source\": \"21\", \"target\": \"19\", \"id\": \"e159\"}, {\"source\": \"21\", \"target\": \"18\", \"id\": \"e160\"}, {\"source\": \"21\", \"target\": \"23\", \"id\": \"e161\"}, {\"source\": \"22\", \"target\": \"17\", \"id\": \"e162\"}, {\"source\": \"22\", \"target\": \"16\", \"id\": \"e163\"}, {\"source\": \"22\", \"target\": \"19\", \"id\": \"e164\"}, {\"source\": \"22\", \"target\": \"18\", \"id\": \"e165\"}, {\"source\": \"22\", \"target\": \"23\", \"id\": \"e166\"}, {\"source\": \"23\", \"target\": \"16\", \"id\": \"e167\"}, {\"source\": \"23\", \"target\": \"19\", \"id\": \"e168\"}, {\"source\": \"23\", \"target\": \"18\", \"id\": \"e169\"}, {\"source\": \"23\", \"target\": \"31\", \"id\": \"e170\"}, {\"source\": \"23\", \"target\": \"30\", \"id\": \"e171\"}, {\"source\": \"23\", \"target\": \"12\", \"id\": \"e172\"}, {\"source\": \"23\", \"target\": \"17\", \"id\": \"e173\"}, {\"source\": \"23\", \"target\": \"11\", \"id\": \"e174\"}, {\"source\": \"46\", \"target\": \"47\", \"id\": \"e175\"}, {\"source\": \"47\", \"target\": \"48\", \"id\": \"e176\"}, {\"source\": \"44\", \"target\": \"11\", \"id\": \"e177\"}, {\"source\": \"42\", \"target\": \"41\", \"id\": \"e178\"}, {\"source\": \"43\", \"target\": \"11\", \"id\": \"e179\"}, {\"source\": \"41\", \"target\": \"55\", \"id\": \"e180\"}, {\"source\": \"41\", \"target\": \"57\", \"id\": \"e181\"}, {\"source\": \"41\", \"target\": \"75\", \"id\": \"e182\"}, {\"source\": \"41\", \"target\": \"71\", \"id\": \"e183\"}, {\"source\": \"41\", \"target\": \"70\", \"id\": \"e184\"}, {\"source\": \"1\", \"target\": \"0\", \"id\": \"e185\"}, {\"source\": \"0\", \"target\": \"11\", \"id\": \"e186\"}, {\"source\": \"0\", \"target\": \"3\", \"id\": \"e187\"}, {\"source\": \"0\", \"target\": \"2\", \"id\": \"e188\"}, {\"source\": \"0\", \"target\": \"5\", \"id\": \"e189\"}, {\"source\": \"0\", \"target\": \"4\", \"id\": \"e190\"}, {\"source\": \"0\", \"target\": \"7\", \"id\": \"e191\"}, {\"source\": \"0\", \"target\": \"6\", \"id\": \"e192\"}, {\"source\": \"0\", \"target\": \"9\", \"id\": \"e193\"}, {\"source\": \"0\", \"target\": \"8\", \"id\": \"e194\"}, {\"source\": \"3\", \"target\": \"11\", \"id\": \"e195\"}, {\"source\": \"3\", \"target\": \"2\", \"id\": \"e196\"}, {\"source\": \"2\", \"target\": \"11\", \"id\": \"e197\"}, {\"source\": \"51\", \"target\": \"11\", \"id\": \"e198\"}, {\"source\": \"51\", \"target\": \"49\", \"id\": \"e199\"}, {\"source\": \"51\", \"target\": \"55\", \"id\": \"e200\"}, {\"source\": \"51\", \"target\": \"53\", \"id\": \"e201\"}, {\"source\": \"51\", \"target\": \"52\", \"id\": \"e202\"}, {\"source\": \"49\", \"target\": \"11\", \"id\": \"e203\"}, {\"source\": \"49\", \"target\": \"55\", \"id\": \"e204\"}, {\"source\": \"49\", \"target\": \"50\", \"id\": \"e205\"}, {\"source\": \"19\", \"target\": \"17\", \"id\": \"e206\"}, {\"source\": \"19\", \"target\": \"16\", \"id\": \"e207\"}, {\"source\": \"19\", \"target\": \"18\", \"id\": \"e208\"}, {\"source\": \"35\", \"target\": \"11\", \"id\": \"e209\"}, {\"source\": \"35\", \"target\": \"38\", \"id\": \"e210\"}, {\"source\": \"35\", \"target\": \"37\", \"id\": \"e211\"}, {\"source\": \"35\", \"target\": \"36\", \"id\": \"e212\"}, {\"source\": \"39\", \"target\": \"55\", \"id\": \"e213\"}, {\"source\": \"39\", \"target\": \"52\", \"id\": \"e214\"}, {\"source\": \"76\", \"target\": \"48\", \"id\": \"e215\"}, {\"source\": \"75\", \"target\": \"48\", \"id\": \"e216\"}, {\"source\": \"75\", \"target\": \"71\", \"id\": \"e217\"}, {\"source\": \"75\", \"target\": \"70\", \"id\": \"e218\"}, {\"source\": \"38\", \"target\": \"11\", \"id\": \"e219\"}, {\"source\": \"38\", \"target\": \"37\", \"id\": \"e220\"}, {\"source\": \"38\", \"target\": \"36\", \"id\": \"e221\"}, {\"source\": \"73\", \"target\": \"74\", \"id\": \"e222\"}, {\"source\": \"73\", \"target\": \"48\", \"id\": \"e223\"}, {\"source\": \"72\", \"target\": \"11\", \"id\": \"e224\"}, {\"source\": \"71\", \"target\": \"11\", \"id\": \"e225\"}, {\"source\": \"71\", \"target\": \"48\", \"id\": \"e226\"}, {\"source\": \"71\", \"target\": \"70\", \"id\": \"e227\"}, {\"source\": \"70\", \"target\": \"11\", \"id\": \"e228\"}, {\"source\": \"59\", \"target\": \"48\", \"id\": \"e229\"}, {\"source\": \"59\", \"target\": \"55\", \"id\": \"e230\"}, {\"source\": \"59\", \"target\": \"57\", \"id\": \"e231\"}, {\"source\": \"14\", \"target\": \"11\", \"id\": \"e232\"}, {\"source\": \"11\", \"target\": \"48\", \"id\": \"e233\"}, {\"source\": \"11\", \"target\": \"10\", \"id\": \"e234\"}, {\"source\": \"11\", \"target\": \"13\", \"id\": \"e235\"}, {\"source\": \"11\", \"target\": \"12\", \"id\": \"e236\"}, {\"source\": \"11\", \"target\": \"15\", \"id\": \"e237\"}, {\"source\": \"11\", \"target\": \"33\", \"id\": \"e238\"}, {\"source\": \"11\", \"target\": \"32\", \"id\": \"e239\"}, {\"source\": \"11\", \"target\": \"31\", \"id\": \"e240\"}, {\"source\": \"11\", \"target\": \"37\", \"id\": \"e241\"}, {\"source\": \"11\", \"target\": \"36\", \"id\": \"e242\"}, {\"source\": \"11\", \"target\": \"55\", \"id\": \"e243\"}, {\"source\": \"48\", \"target\": \"74\", \"id\": \"e244\"}, {\"source\": \"48\", \"target\": \"55\", \"id\": \"e245\"}, {\"source\": \"48\", \"target\": \"57\", \"id\": \"e246\"}, {\"source\": \"17\", \"target\": \"16\", \"id\": \"e247\"}, {\"source\": \"17\", \"target\": \"18\", \"id\": \"e248\"}, {\"source\": \"16\", \"target\": \"18\", \"id\": \"e249\"}, {\"source\": \"16\", \"target\": \"55\", \"id\": \"e250\"}, {\"source\": \"57\", \"target\": \"55\", \"id\": \"e251\"}, {\"source\": \"30\", \"target\": \"31\", \"id\": \"e252\"}, {\"source\": \"37\", \"target\": \"36\", \"id\": \"e253\"}]} ;\n",
       "\n",
       "s = new sigma({graph: g, container: 'graph-div', settings: { defaultNodeColor: '#ec5148'} });\n",
       "\n",
       "s.graph.nodes().forEach(function(n) {\n",
       "  n.originalColor = n.color;\n",
       "});\n",
       "s.graph.edges().forEach(function(e) {\n",
       "  e.originalColor = e.color;\n",
       "});\n",
       "\n",
       "s.bind('clickNode', function(e) {\n",
       "  var nodeId = e.data.node.id,\n",
       "      toKeep = s.graph.neighbors(nodeId);\n",
       "  toKeep[nodeId] = e.data.node;\n",
       "\n",
       "  s.graph.nodes().forEach(function(n) {\n",
       "    if (toKeep[n.id])\n",
       "      n.color = n.originalColor;\n",
       "    else\n",
       "      n.color = '#eee';\n",
       "  });\n",
       "\n",
       "  s.graph.edges().forEach(function(e) {\n",
       "    if (toKeep[e.source] && toKeep[e.target])\n",
       "      e.color = e.originalColor;\n",
       "    else\n",
       "      e.color = '#eee';\n",
       "  });\n",
       "\n",
       "  s.refresh();\n",
       "});\n",
       "\n",
       "s.bind('clickStage', function(e) {\n",
       "  s.graph.nodes().forEach(function(n) {\n",
       "    n.color = n.originalColor;\n",
       "  });\n",
       "\n",
       "  s.graph.edges().forEach(function(e) {\n",
       "    e.color = e.originalColor;\n",
       "  });\n",
       "\n",
       "  s.refresh();\n",
       "});\n",
       " </script>\n"
      ],
      "text/plain": [
       "<IPython.core.display.HTML object>"
      ]
     },
     "execution_count": 44,
     "metadata": {},
     "output_type": "execute_result"
    }
   ],
   "source": [
    "js_text_template = Template(open('js/sigma-graph.js','r').read())\n",
    "\n",
    "js_text = js_text_template.substitute({'graph_data': json.dumps(graph_data),\n",
    "                                       'container': 'graph-div'})\n",
    "\n",
    "html_template = Template('''\n",
    "<div id=\"graph-div\" style=\"height:700px\"></div>\n",
    "<script> $js_text </script>\n",
    "''')\n",
    "HTML(html_template.substitute({'js_text': js_text}))"
   ]
  },
  {
   "cell_type": "code",
   "execution_count": null,
   "metadata": {
    "collapsed": true
   },
   "outputs": [],
   "source": []
  },
  {
   "cell_type": "code",
   "execution_count": null,
   "metadata": {
    "collapsed": true
   },
   "outputs": [],
   "source": []
  },
  {
   "cell_type": "code",
   "execution_count": null,
   "metadata": {
    "collapsed": true
   },
   "outputs": [],
   "source": []
  }
 ],
 "metadata": {
  "anaconda-cloud": {},
  "kernelspec": {
   "display_name": "Python [default]",
   "language": "python",
   "name": "python2"
  },
  "language_info": {
   "codemirror_mode": {
    "name": "ipython",
    "version": 2
   },
   "file_extension": ".py",
   "mimetype": "text/x-python",
   "name": "python",
   "nbconvert_exporter": "python",
   "pygments_lexer": "ipython2",
   "version": "2.7.12"
  }
 },
 "nbformat": 4,
 "nbformat_minor": 1
}
