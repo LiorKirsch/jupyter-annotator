{
 "cells": [
  {
   "cell_type": "markdown",
   "metadata": {},
   "source": [
    "# Using Fabric.js to draw rect on image"
   ]
  },
  {
   "cell_type": "markdown",
   "metadata": {},
   "source": [
    "This example uses [fabric.js](http://fabricjs.com/) to visualize "
   ]
  },
  {
   "cell_type": "code",
   "execution_count": 8,
   "metadata": {
    "collapsed": false
   },
   "outputs": [],
   "source": [
    "from IPython.core.display import display, HTML\n",
    "from string import Template\n",
    "import pandas as pd\n",
    "import json, random\n",
    "from IPython.core.display import Javascript\n"
   ]
  },
  {
   "cell_type": "code",
   "execution_count": 11,
   "metadata": {
    "collapsed": false
   },
   "outputs": [],
   "source": [
    "images = ['./images/ping.jpg', './images/ping2.jpg']\n",
    "images_annotations = {\n",
    "    './images/ping.jpg': [{'angle': 0,   'height': 100,   'left': 90.1,   'top': 105.7,   'width': 87},\n",
    "                          {'angle': 338.4,   'height': 73,   'left': 97,   'top': 215.6,  'width': 98}],\n",
    "    './images/ping2.jpg':[{'angle': 0,   'height': 39,   'left': 42.1,   'top': 48.4,   'width': 47}]\n",
    "}"
   ]
  },
  {
   "cell_type": "code",
   "execution_count": 12,
   "metadata": {
    "collapsed": false,
    "scrolled": false
   },
   "outputs": [
    {
     "data": {
      "text/html": [
       "\n",
       "<script src=\"fabric.js\"></script>\n",
       "<canvas id=\"canvass\" width=\"400\" height=\"400\"></canvas>\n",
       "<input type=\"button\" value=\"Next\" id =\"next\"/>\n",
       "<input type=\"button\" value=\"Previous\" id=\"previous\"/>\n",
       "<input type=\"button\" value=\"Create box\" id=\"create\"/>\n"
      ],
      "text/plain": [
       "<IPython.core.display.HTML object>"
      ]
     },
     "execution_count": 12,
     "metadata": {},
     "output_type": "execute_result"
    }
   ],
   "source": [
    "HTML('''\n",
    "<script src=\"fabric.js\"></script>\n",
    "<canvas id=\"canvass\" width=\"400\" height=\"400\"></canvas>\n",
    "<input type=\"button\" value=\"Next\" id =\"next\"/>\n",
    "<input type=\"button\" value=\"Previous\" id=\"previous\"/>\n",
    "<input type=\"button\" value=\"Create box\" id=\"create\"/>\n",
    "''')"
   ]
  },
  {
   "cell_type": "code",
   "execution_count": 15,
   "metadata": {
    "collapsed": false
   },
   "outputs": [
    {
     "data": {
      "text/html": [
       "<script>  \n",
       "          var annotator = new Object(); \n",
       "          annotator.images = [\"./images/ping.jpg\", \"./images/ping2.jpg\"]; \n",
       "          annotator.rects = {\"./images/ping.jpg\": [{\"left\": 90.1, \"height\": 100, \"width\": 87, \"angle\": 0, \"top\": 105.7}, {\"left\": 97, \"height\": 73, \"width\": 98, \"angle\": 338.4, \"top\": 215.6}], \"./images/ping2.jpg\": [{\"left\": 42.1, \"height\": 39, \"width\": 47, \"angle\": 0, \"top\": 48.4}]}; \n",
       "        </script>\n",
       "     "
      ],
      "text/plain": [
       "<IPython.core.display.HTML object>"
      ]
     },
     "execution_count": 15,
     "metadata": {},
     "output_type": "execute_result"
    }
   ],
   "source": [
    "HTML('''<script>  \n",
    "          var annotator = new Object(); \n",
    "          annotator.images = %s; \n",
    "          annotator.rects = %s; \n",
    "        </script>\n",
    "     ''' %(json.dumps(images), json.dumps(images_annotations)) \n",
    "    )"
   ]
  },
  {
   "cell_type": "markdown",
   "metadata": {},
   "source": [
    "#### All functions and variables which are writen under HTML() can be accessed from other cells."
   ]
  },
  {
   "cell_type": "code",
   "execution_count": 14,
   "metadata": {
    "collapsed": false
   },
   "outputs": [
    {
     "data": {
      "text/html": [
       "\n",
       "<script src=\"https://ajax.googleapis.com/ajax/libs/jquery/3.1.1/jquery.min.js\"></script>\n",
       "<script>\n",
       "    \n",
       "    var canvas = new fabric.Canvas('canvass');\n",
       "//     annotator.images = ['./images/ping.jpg', './images/ping2.jpg'];\n",
       "//     annotator.rects = {};\n",
       "//     for (i = 0; i < annotator.images.length; i++) { \n",
       "//         annotator.rects[annotator.images[i]] = [];\n",
       "//     } \n",
       "    annotator.currentImageInd = 0;\n",
       "    annotator.currentImg = annotator.images[annotator.currentImageInd];\n",
       "    console.log(annotator.currentImg);\n",
       "    canvas.setBackgroundImage(annotator.currentImg, canvas.renderAll.bind(canvas));\n",
       "    \n",
       "    \n",
       "    $( \"#next\" ).click(function() {\n",
       "      annotator.rects[annotator.currentImg] = exportCanvasItems();\n",
       "      annotator.currentImageInd += 1;\n",
       "      annotator.changeAnnotatorImage();\n",
       "    });\n",
       "    $( \"#previous\" ).click(function() {\n",
       "      annotator.rects[annotator.currentImg] = exportCanvasItems();\n",
       "      annotator.currentImageInd -= 1;\n",
       "      if (annotator.currentImageInd < 0) {annotator.currentImageInd =+ annotator.images.length};\n",
       "      annotator.changeAnnotatorImage();\n",
       "    });\n",
       "    $( \"#create\" ).click(function() {\n",
       "      createRect();\n",
       "    });\n",
       "    function changeAnnotatorImage(){\n",
       "      this.currentImg = this.images[this.currentImageInd % this.images.length];\n",
       "      console.log('previous ' +this.currentImg);\n",
       "      canvas.setBackgroundImage(this.currentImg, canvas.renderAll.bind(canvas));\n",
       "      this.loadRects(this.rects[this.currentImg]);\n",
       "    }\n",
       "    annotator.changeAnnotatorImage = changeAnnotatorImage;\n",
       "    function loadRects(rectsData){\n",
       "        canvas.clear();\n",
       "        console.log('canvas clearerd');\n",
       "        for (i = 0; i < rectsData.length; i++) { \n",
       "            var rect = new fabric.Rect({\n",
       "                top : rectsData[i].top,\n",
       "                left : rectsData[i].left,\n",
       "                width : rectsData[i].width,\n",
       "                height : rectsData[i].height,\n",
       "                angle: rectsData[i].angle,\n",
       "                fill : 'red',    \n",
       "                originX: 'center',\n",
       "                originY: 'center'\n",
       "            });\n",
       "            rect.setOpacity(0.5);\n",
       "            canvas.add(rect);\n",
       "        } \n",
       "    }\n",
       "    annotator.loadRects = loadRects;\n",
       "    function createRect() {\n",
       "        var rect = new fabric.Rect({\n",
       "            top : 100,\n",
       "            left : 100,\n",
       "            width : 60,\n",
       "            height : 70,\n",
       "            fill : 'red',    \n",
       "            originX: 'center',\n",
       "            originY: 'center'\n",
       "        });\n",
       "        rect.setOpacity(0.5);\n",
       "        canvas.add(rect);\n",
       "    }\n",
       "    \n",
       "    function loadImageToBackground(filePath) {\n",
       "      canvas.setBackgroundImage(filePath, canvas.renderAll.bind(canvas));\n",
       "      console.log('Changed background image')\n",
       "    }\n",
       "    function exportCanvasItems() {\n",
       "      var out = []\n",
       "      var i = 0;\n",
       "      while(canvas.item(i)){\n",
       "            out[i] = {\n",
       "            left : canvas.item(i).left,\n",
       "            top : canvas.item(i).top,\n",
       "            width : canvas.item(i).cacheWidth,\n",
       "            height : canvas.item(i).cacheHeight,\n",
       "            angle : canvas.item(i).angle\n",
       "            };\n",
       "            i += 1;\n",
       "      }\n",
       "      \n",
       "      return out;\n",
       "    }\n",
       "    function exportToKernelVar(){\n",
       "         var varName = 'canvas_export';\n",
       "//         var jsonExport = exportCanvasItems();\n",
       "         var command = varName + ' = ' + JSON.stringify(this.rects);\n",
       "         var kernel = IPython.notebook.kernel;\n",
       "         kernel.execute(command);\n",
       "         console.log('exported to Jupyter variable: ' + varName);\n",
       "    }\n",
       "    annotator.exportToKernelVar = exportToKernelVar;\n",
       "    annotator.loadRects(annotator.rects[annotator.currentImg]);\n",
       "</script>\n"
      ],
      "text/plain": [
       "<IPython.core.display.HTML object>"
      ]
     },
     "execution_count": 14,
     "metadata": {},
     "output_type": "execute_result"
    }
   ],
   "source": [
    "HTML('''\n",
    "<script src=\"https://ajax.googleapis.com/ajax/libs/jquery/3.1.1/jquery.min.js\"></script>\n",
    "<script>\n",
    "    \n",
    "    var canvas = new fabric.Canvas('canvass');\n",
    "//     annotator.images = ['./images/ping.jpg', './images/ping2.jpg'];\n",
    "//     annotator.rects = {};\n",
    "//     for (i = 0; i < annotator.images.length; i++) { \n",
    "//         annotator.rects[annotator.images[i]] = [];\n",
    "//     } \n",
    "    annotator.currentImageInd = 0;\n",
    "    annotator.currentImg = annotator.images[annotator.currentImageInd];\n",
    "    console.log(annotator.currentImg);\n",
    "    canvas.setBackgroundImage(annotator.currentImg, canvas.renderAll.bind(canvas));\n",
    "    \n",
    "    \n",
    "    $( \"#next\" ).click(function() {\n",
    "      annotator.rects[annotator.currentImg] = exportCanvasItems();\n",
    "      annotator.currentImageInd += 1;\n",
    "      annotator.changeAnnotatorImage();\n",
    "    });\n",
    "    $( \"#previous\" ).click(function() {\n",
    "      annotator.rects[annotator.currentImg] = exportCanvasItems();\n",
    "      annotator.currentImageInd -= 1;\n",
    "      if (annotator.currentImageInd < 0) {annotator.currentImageInd =+ annotator.images.length};\n",
    "      annotator.changeAnnotatorImage();\n",
    "    });\n",
    "    $( \"#create\" ).click(function() {\n",
    "      createRect();\n",
    "    });\n",
    "    function changeAnnotatorImage(){\n",
    "      this.currentImg = this.images[this.currentImageInd % this.images.length];\n",
    "      console.log('previous ' +this.currentImg);\n",
    "      canvas.setBackgroundImage(this.currentImg, canvas.renderAll.bind(canvas));\n",
    "      this.loadRects(this.rects[this.currentImg]);\n",
    "    }\n",
    "    annotator.changeAnnotatorImage = changeAnnotatorImage;\n",
    "    function loadRects(rectsData){\n",
    "        canvas.clear();\n",
    "        console.log('canvas clearerd');\n",
    "        for (i = 0; i < rectsData.length; i++) { \n",
    "            var rect = new fabric.Rect({\n",
    "                top : rectsData[i].top,\n",
    "                left : rectsData[i].left,\n",
    "                width : rectsData[i].width,\n",
    "                height : rectsData[i].height,\n",
    "                angle: rectsData[i].angle,\n",
    "                fill : 'red',    \n",
    "                originX: 'center',\n",
    "                originY: 'center'\n",
    "            });\n",
    "            rect.setOpacity(0.5);\n",
    "            canvas.add(rect);\n",
    "        } \n",
    "    }\n",
    "    annotator.loadRects = loadRects;\n",
    "    function createRect() {\n",
    "        var rect = new fabric.Rect({\n",
    "            top : 100,\n",
    "            left : 100,\n",
    "            width : 60,\n",
    "            height : 70,\n",
    "            fill : 'red',    \n",
    "            originX: 'center',\n",
    "            originY: 'center'\n",
    "        });\n",
    "        rect.setOpacity(0.5);\n",
    "        canvas.add(rect);\n",
    "    }\n",
    "    \n",
    "    function loadImageToBackground(filePath) {\n",
    "      canvas.setBackgroundImage(filePath, canvas.renderAll.bind(canvas));\n",
    "      console.log('Changed background image')\n",
    "    }\n",
    "    function exportCanvasItems() {\n",
    "      var out = []\n",
    "      var i = 0;\n",
    "      while(canvas.item(i)){\n",
    "            out[i] = {\n",
    "            left : canvas.item(i).left,\n",
    "            top : canvas.item(i).top,\n",
    "            width : canvas.item(i).cacheWidth,\n",
    "            height : canvas.item(i).cacheHeight,\n",
    "            angle : canvas.item(i).angle\n",
    "            };\n",
    "            i += 1;\n",
    "      }\n",
    "      \n",
    "      return out;\n",
    "    }\n",
    "    function exportToKernelVar(){\n",
    "         var varName = 'canvas_export';\n",
    "//         var jsonExport = exportCanvasItems();\n",
    "         var command = varName + ' = ' + JSON.stringify(this.rects);\n",
    "         var kernel = IPython.notebook.kernel;\n",
    "         kernel.execute(command);\n",
    "         console.log('exported to Jupyter variable: ' + varName);\n",
    "    }\n",
    "    annotator.exportToKernelVar = exportToKernelVar;\n",
    "    annotator.loadRects(annotator.rects[annotator.currentImg]);\n",
    "</script>\n",
    "''')"
   ]
  },
  {
   "cell_type": "code",
   "execution_count": null,
   "metadata": {
    "collapsed": false
   },
   "outputs": [],
   "source": [
    "%%javascript\n",
    "\n",
    "canvas.setBackgroundImage('./images/ping.jpg', canvas.renderAll.bind(canvas));\n",
    "\n",
    "// changing to center instead of left,top - makes more sense when rotating objects\n",
    "var rect = new fabric.Rect({\n",
    "    top : 100,\n",
    "    left : 100,\n",
    "    width : 60,\n",
    "    height : 70,\n",
    "    fill : 'red',    \n",
    "    originX: 'center',\n",
    "    originY: 'center'\n",
    "});\n",
    "rect.setOpacity(0.5);\n",
    "\n",
    "canvas.add(rect);\n",
    "\n",
    "canvas.item(0).set({\n",
    "    borderColor: 'gray',\n",
    "    cornerColor: 'black',\n",
    "    cornerSize: 12,\n",
    "    transparentCorners: true\n",
    "  });\n"
   ]
  },
  {
   "cell_type": "code",
   "execution_count": 6,
   "metadata": {
    "collapsed": false
   },
   "outputs": [
    {
     "data": {
      "application/javascript": [
       "annotator.exportToKernelVar();"
      ],
      "text/plain": [
       "<IPython.core.display.Javascript object>"
      ]
     },
     "metadata": {},
     "output_type": "display_data"
    }
   ],
   "source": [
    "%%javascript\n",
    "annotator.exportToKernelVar();"
   ]
  },
  {
   "cell_type": "code",
   "execution_count": 7,
   "metadata": {
    "collapsed": false
   },
   "outputs": [
    {
     "data": {
      "text/plain": [
       "{'./images/ping.jpg': [{'angle': 0,\n",
       "   'height': 103,\n",
       "   'left': 90.1,\n",
       "   'top': 105.7,\n",
       "   'width': 90},\n",
       "  {'angle': 338.49252908008884,\n",
       "   'height': 73,\n",
       "   'left': 97.05147800725581,\n",
       "   'top': 215.67473679364332,\n",
       "   'width': 98}],\n",
       " './images/ping2.jpg': [{'angle': 0,\n",
       "   'height': 42,\n",
       "   'left': 42.1,\n",
       "   'top': 48.4,\n",
       "   'width': 50}]}"
      ]
     },
     "execution_count": 7,
     "metadata": {},
     "output_type": "execute_result"
    }
   ],
   "source": [
    "canvas_export"
   ]
  },
  {
   "cell_type": "code",
   "execution_count": null,
   "metadata": {
    "collapsed": true
   },
   "outputs": [],
   "source": []
  }
 ],
 "metadata": {
  "anaconda-cloud": {},
  "kernelspec": {
   "display_name": "Python [Root]",
   "language": "python",
   "name": "Python [Root]"
  },
  "language_info": {
   "codemirror_mode": {
    "name": "ipython",
    "version": 3
   },
   "file_extension": ".py",
   "mimetype": "text/x-python",
   "name": "python",
   "nbconvert_exporter": "python",
   "pygments_lexer": "ipython3",
   "version": "3.5.2"
  }
 },
 "nbformat": 4,
 "nbformat_minor": 0
}
